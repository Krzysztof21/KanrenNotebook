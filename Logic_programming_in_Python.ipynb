{
  "nbformat": 4,
  "nbformat_minor": 0,
  "metadata": {
    "colab": {
      "name": "Logic programming in Python",
      "provenance": []
    },
    "kernelspec": {
      "name": "python3",
      "display_name": "Python 3"
    }
  },
  "cells": [
    {
      "cell_type": "markdown",
      "metadata": {
        "id": "RS2KVK4sqk0j",
        "colab_type": "text"
      },
      "source": [
        "1. What is logic programming\n",
        "2. Kanren package\n",
        "3. Basic concepts:\n",
        "  - terms: numbers, strings, logic variables, tuples\n",
        "  - unification and reification\n",
        "  - goals\n",
        "  - goal generators\n",
        "4. Representing knowledge\n",
        "5. Example of inference"
      ]
    },
    {
      "cell_type": "code",
      "metadata": {
        "id": "-mJmo1qqlLVd",
        "colab_type": "code",
        "colab": {}
      },
      "source": [
        "!pip install kanren"
      ],
      "execution_count": 0,
      "outputs": []
    },
    {
      "cell_type": "code",
      "metadata": {
        "id": "r47E76vPlOOy",
        "colab_type": "code",
        "colab": {}
      },
      "source": [
        "from kanren import *"
      ],
      "execution_count": 0,
      "outputs": []
    },
    {
      "cell_type": "markdown",
      "metadata": {
        "id": "Rsd24uTcJ3go",
        "colab_type": "text"
      },
      "source": [
        "Terms: constants, variables, tuples"
      ]
    },
    {
      "cell_type": "markdown",
      "metadata": {
        "id": "tQmlXaQPRzhB",
        "colab_type": "text"
      },
      "source": [
        "Example of constants"
      ]
    },
    {
      "cell_type": "code",
      "metadata": {
        "id": "p7or3c1pKA4L",
        "colab_type": "code",
        "outputId": "b5c9f79c-4727-4c9a-fdc7-52a1a9461d10",
        "colab": {
          "base_uri": "https://localhost:8080/",
          "height": 34
        }
      },
      "source": [
        "x = Var('x')\n",
        "obj1 = 'Morgen'\n",
        "obj2 = 'Morg'\n",
        "\n",
        "run(0, x, eq(obj1, obj2))"
      ],
      "execution_count": 0,
      "outputs": [
        {
          "output_type": "execute_result",
          "data": {
            "text/plain": [
              "()"
            ]
          },
          "metadata": {
            "tags": []
          },
          "execution_count": 103
        }
      ]
    },
    {
      "cell_type": "markdown",
      "metadata": {
        "id": "bmYvGya0R3sA",
        "colab_type": "text"
      },
      "source": [
        "Example of variable"
      ]
    },
    {
      "cell_type": "code",
      "metadata": {
        "id": "D2QmAjmhQomL",
        "colab_type": "code",
        "outputId": "904e84b6-9c91-404a-9cca-f354f88e0b50",
        "colab": {
          "base_uri": "https://localhost:8080/",
          "height": 34
        }
      },
      "source": [
        "run(0, x, eq(x, 5))"
      ],
      "execution_count": 0,
      "outputs": [
        {
          "output_type": "execute_result",
          "data": {
            "text/plain": [
              "(5,)"
            ]
          },
          "metadata": {
            "tags": []
          },
          "execution_count": 104
        }
      ]
    },
    {
      "cell_type": "markdown",
      "metadata": {
        "id": "hHA-kpb6AO5g",
        "colab_type": "text"
      },
      "source": [
        "Logic variables are quite different than variables in procedural programming"
      ]
    },
    {
      "cell_type": "code",
      "metadata": {
        "id": "ry8Dk0yCACWI",
        "colab_type": "code",
        "colab": {}
      },
      "source": [
        "y = Var()\n",
        "run(0, y, eq(y, x))"
      ],
      "execution_count": 0,
      "outputs": []
    },
    {
      "cell_type": "code",
      "metadata": {
        "id": "MjnSLjNMArg2",
        "colab_type": "code",
        "colab": {}
      },
      "source": [
        "print(x)"
      ],
      "execution_count": 0,
      "outputs": []
    },
    {
      "cell_type": "markdown",
      "metadata": {
        "id": "QA4YdysJA4Ze",
        "colab_type": "text"
      },
      "source": [
        "A variable and tuples"
      ]
    },
    {
      "cell_type": "code",
      "metadata": {
        "id": "xc7stnA9R8He",
        "colab_type": "code",
        "outputId": "678b5276-90e9-431c-adb4-bf23b8c8dc83",
        "colab": {
          "base_uri": "https://localhost:8080/",
          "height": 34
        }
      },
      "source": [
        "run(0, x, eq((3, 5),(x, 5)))"
      ],
      "execution_count": 0,
      "outputs": [
        {
          "output_type": "execute_result",
          "data": {
            "text/plain": [
              "(3,)"
            ]
          },
          "metadata": {
            "tags": []
          },
          "execution_count": 105
        }
      ]
    },
    {
      "cell_type": "markdown",
      "metadata": {
        "id": "nyZ5gVfnIAQ1",
        "colab_type": "text"
      },
      "source": [
        "Unification\n",
        "\n",
        "We unify two similar terms like `(1, 2)` and `(1, ~x)` to form a substitution `{~x: 2}`. We say that `(1, 2)` and `(1, ~x)` unify under the substitution `{~x: 2}`. Variables may assume the value of any term.\n",
        "\n",
        "Unify is a function that takes two terms, `u` and `v`, and returns a substitution `s`."
      ]
    },
    {
      "cell_type": "code",
      "metadata": {
        "id": "1cPOhdrImZwg",
        "colab_type": "code",
        "outputId": "db00fba4-feaa-491f-c6ab-5395e7a757e9",
        "colab": {
          "base_uri": "https://localhost:8080/",
          "height": 34
        }
      },
      "source": [
        "x = Var('x')\n",
        "unify((x,4),(2,4))"
      ],
      "execution_count": 0,
      "outputs": [
        {
          "output_type": "execute_result",
          "data": {
            "text/plain": [
              "{~x: 2}"
            ]
          },
          "metadata": {
            "tags": []
          },
          "execution_count": 106
        }
      ]
    },
    {
      "cell_type": "markdown",
      "metadata": {
        "id": "RMAm6UN-JzKf",
        "colab_type": "text"
      },
      "source": [
        "Reification\n",
        "\n",
        "Reify is the opposite of unify. `reify` transforms a term with logic variables like `(1, ~x)` and a substitution like `{~x: 2}` into a term without logic variables like `(1, 2)`."
      ]
    },
    {
      "cell_type": "code",
      "metadata": {
        "id": "syqMBegO6GZz",
        "colab_type": "code",
        "outputId": "f7dbb9fe-230a-43d1-bb72-951815986e0e",
        "colab": {
          "base_uri": "https://localhost:8080/",
          "height": 34
        }
      },
      "source": [
        "a = var('a')\n",
        "reify(x, {x: 2})"
      ],
      "execution_count": 0,
      "outputs": [
        {
          "output_type": "execute_result",
          "data": {
            "text/plain": [
              "2"
            ]
          },
          "metadata": {
            "tags": []
          },
          "execution_count": 107
        }
      ]
    },
    {
      "cell_type": "code",
      "metadata": {
        "id": "JVX8Xd5afE2V",
        "colab_type": "code",
        "colab": {}
      },
      "source": [
        "y = var('y')\n",
        "reify((x, y),{x: 2, y: 3})"
      ],
      "execution_count": 0,
      "outputs": []
    },
    {
      "cell_type": "markdown",
      "metadata": {
        "id": "Igp-yqnHVH_o",
        "colab_type": "text"
      },
      "source": [
        "---\n",
        "Goals - eq, membero\n",
        "\n",
        "`run` function:\n",
        "  - number of terms returned\n",
        "  - variable to be assigned \n",
        "  - goal(s)"
      ]
    },
    {
      "cell_type": "code",
      "metadata": {
        "id": "WScFw5cxrPLD",
        "colab_type": "code",
        "outputId": "378c891f-da09-4efe-ffab-fe6d62078183",
        "colab": {
          "base_uri": "https://localhost:8080/",
          "height": 34
        }
      },
      "source": [
        "run(1, x, eq(x, 1))"
      ],
      "execution_count": 0,
      "outputs": [
        {
          "output_type": "execute_result",
          "data": {
            "text/plain": [
              "(1,)"
            ]
          },
          "metadata": {
            "tags": []
          },
          "execution_count": 108
        }
      ]
    },
    {
      "cell_type": "code",
      "metadata": {
        "id": "YvKMAEVTC5Sw",
        "colab_type": "code",
        "outputId": "7d92039e-cc88-485b-ba64-1477752aa889",
        "colab": {
          "base_uri": "https://localhost:8080/",
          "height": 34
        }
      },
      "source": [
        "run(0, x, membero(x, (1,2,3)))"
      ],
      "execution_count": 0,
      "outputs": [
        {
          "output_type": "execute_result",
          "data": {
            "text/plain": [
              "(1, 2, 3)"
            ]
          },
          "metadata": {
            "tags": []
          },
          "execution_count": 109
        }
      ]
    },
    {
      "cell_type": "markdown",
      "metadata": {
        "id": "vskT_Agioytk",
        "colab_type": "text"
      },
      "source": [
        "run has an implicit `lall` for the goals included"
      ]
    },
    {
      "cell_type": "code",
      "metadata": {
        "id": "np7dHlT8XL8W",
        "colab_type": "code",
        "outputId": "97a841dc-1987-42de-99fb-7976fb5a3d0d",
        "colab": {
          "base_uri": "https://localhost:8080/",
          "height": 34
        }
      },
      "source": [
        "run(0, x, membero(x, (1, 2, 3)), membero(x, (2, 3, 4)))"
      ],
      "execution_count": 0,
      "outputs": [
        {
          "output_type": "execute_result",
          "data": {
            "text/plain": [
              "(2, 3)"
            ]
          },
          "metadata": {
            "tags": []
          },
          "execution_count": 110
        }
      ]
    },
    {
      "cell_type": "markdown",
      "metadata": {
        "id": "wCRc0jHFhsMK",
        "colab_type": "text"
      },
      "source": [
        "To check if a given number is a member of a given collection - write number to be checked in membero() "
      ]
    },
    {
      "cell_type": "code",
      "metadata": {
        "id": "fmNndb8I8P5l",
        "colab_type": "code",
        "colab": {}
      },
      "source": [
        "a = 3\n",
        "goal = membero(a,(4,2,3))\n",
        "run(0, x, goal)"
      ],
      "execution_count": 0,
      "outputs": []
    },
    {
      "cell_type": "markdown",
      "metadata": {
        "id": "_HC_Mht3pbnv",
        "colab_type": "text"
      },
      "source": [
        "To check which numbers are in a given collection write a logic variable in membero()"
      ]
    },
    {
      "cell_type": "code",
      "metadata": {
        "id": "Eo-GTNaJFSPR",
        "colab_type": "code",
        "colab": {}
      },
      "source": [
        "g = run(0, x, membero(x, (1, 2, 3)), membero(x, (2, 3, 4)))\n",
        "print(g)"
      ],
      "execution_count": 0,
      "outputs": []
    },
    {
      "cell_type": "markdown",
      "metadata": {
        "id": "EbkJDiGsyNQM",
        "colab_type": "text"
      },
      "source": [
        "Representing knowledge"
      ]
    },
    {
      "cell_type": "code",
      "metadata": {
        "id": "I4XyiFe-yQs3",
        "colab_type": "code",
        "colab": {}
      },
      "source": [
        "parent = Relation()\n",
        "marriage = Relation()\n",
        "facts(parent, (\"Eddard\", \"Arya\"), (\"Eddard\", \"Robb\"), (\"Rickard\",  \"Eddard\"), (\"Catlyn\", \"Arya\"))\n",
        "facts(marriage, (\"Eddard\", \"Catlyn\"))"
      ],
      "execution_count": 0,
      "outputs": []
    },
    {
      "cell_type": "code",
      "metadata": {
        "id": "jAtVECKKydAq",
        "colab_type": "code",
        "outputId": "e2ee443d-b6d9-47ff-f321-5d876b7eaf80",
        "colab": {
          "base_uri": "https://localhost:8080/",
          "height": 34
        }
      },
      "source": [
        "run(2, x, parent(x, \"Arya\"))"
      ],
      "execution_count": 0,
      "outputs": [
        {
          "output_type": "execute_result",
          "data": {
            "text/plain": [
              "('Eddard', 'Catlyn')"
            ]
          },
          "metadata": {
            "tags": []
          },
          "execution_count": 112
        }
      ]
    },
    {
      "cell_type": "code",
      "metadata": {
        "id": "2dSqnPWgEiyL",
        "colab_type": "code",
        "outputId": "81dc4812-f875-4f06-c164-dd6dffe5b22e",
        "colab": {
          "base_uri": "https://localhost:8080/",
          "height": 34
        }
      },
      "source": [
        "run(2, x, parent('Eddard', x))"
      ],
      "execution_count": 0,
      "outputs": [
        {
          "output_type": "execute_result",
          "data": {
            "text/plain": [
              "('Arya', 'Robb')"
            ]
          },
          "metadata": {
            "tags": []
          },
          "execution_count": 113
        }
      ]
    },
    {
      "cell_type": "code",
      "metadata": {
        "id": "T3nHdNRfyhha",
        "colab_type": "code",
        "outputId": "b0f461c9-158a-4d7f-821c-78029c4b9798",
        "colab": {
          "base_uri": "https://localhost:8080/",
          "height": 34
        }
      },
      "source": [
        "run(2, x, parent(\"Cersei\", x))"
      ],
      "execution_count": 0,
      "outputs": [
        {
          "output_type": "execute_result",
          "data": {
            "text/plain": [
              "()"
            ]
          },
          "metadata": {
            "tags": []
          },
          "execution_count": 114
        }
      ]
    },
    {
      "cell_type": "markdown",
      "metadata": {
        "id": "BQ-RINcvy-7C",
        "colab_type": "text"
      },
      "source": [
        "Grandparent relation "
      ]
    },
    {
      "cell_type": "code",
      "metadata": {
        "id": "OziLVZ-oy4BG",
        "colab_type": "code",
        "colab": {}
      },
      "source": [
        "def grandparent(x, z):\n",
        "  y = var()\n",
        "  return conde((parent(x, y), parent(y, z)))"
      ],
      "execution_count": 0,
      "outputs": []
    },
    {
      "cell_type": "code",
      "metadata": {
        "id": "QcWpvok1ohHN",
        "colab_type": "code",
        "outputId": "0cd7f5ea-984f-49fa-9798-649d2cc4c0c6",
        "colab": {
          "base_uri": "https://localhost:8080/",
          "height": 34
        }
      },
      "source": [
        "run(0, x, grandparent(x, 'Arya'))"
      ],
      "execution_count": 0,
      "outputs": [
        {
          "output_type": "execute_result",
          "data": {
            "text/plain": [
              "('Rickard',)"
            ]
          },
          "metadata": {
            "tags": []
          },
          "execution_count": 116
        }
      ]
    },
    {
      "cell_type": "code",
      "metadata": {
        "id": "RNI-jiw3zFEy",
        "colab_type": "code",
        "outputId": "7640b33c-1b9a-48ff-c32a-c2b64ea5ecb1",
        "colab": {
          "base_uri": "https://localhost:8080/",
          "height": 34
        }
      },
      "source": [
        "run(1, x, grandparent(x, 'Arya'), (parent, x, \"Robb\"))"
      ],
      "execution_count": 0,
      "outputs": [
        {
          "output_type": "execute_result",
          "data": {
            "text/plain": [
              "()"
            ]
          },
          "metadata": {
            "tags": []
          },
          "execution_count": 117
        }
      ]
    },
    {
      "cell_type": "markdown",
      "metadata": {
        "id": "CPlHfNAT-Xrh",
        "colab_type": "text"
      },
      "source": [
        "Example - small database of US states"
      ]
    },
    {
      "cell_type": "code",
      "metadata": {
        "id": "fOeQiwxu-aA3",
        "colab_type": "code",
        "colab": {}
      },
      "source": [
        "!wget 'https://raw.githubusercontent.com/logpy/logpy/master/examples/data/adjacent-states.txt'"
      ],
      "execution_count": 0,
      "outputs": []
    },
    {
      "cell_type": "code",
      "metadata": {
        "id": "RokML5ZQ_F8V",
        "colab_type": "code",
        "colab": {}
      },
      "source": [
        "adjacent = Relation()\n",
        "coastal  = Relation()\n",
        "\n",
        "\n",
        "coastal_states = 'WA,OR,CA,TX,LA,MI,AL,GA,FL,SC,NC,VI,MD,DW,NJ,NY,CT,RI,MA,MN,NH'.split(',')\n",
        "\n",
        "for state in coastal_states:        # ['NY', 'NJ', 'CT', ...]\n",
        "    fact(coastal, state)            # e.g. 'NY' is coastal\n",
        "\n",
        "with open('adjacent-states.txt') as f: # lines like 'CA,OR,NV,AZ'\n",
        "    adjlist = [line.strip().split(',') for line in f\n",
        "                                       if line and line[0].isalpha()]\n",
        "\n",
        "for L in adjlist:                   # ['CA', 'OR', 'NV', 'AZ']\n",
        "    head, tail = L[0], L[1:]        # 'CA', ['OR', 'NV', 'AZ']\n",
        "    for state in tail:\n",
        "        fact(adjacent, head, state) # e.g. 'CA' is adjacent to 'OR',\n",
        "                                    #      'CA' is adjacent to 'NV', etc...\n",
        "\n",
        "x = var()\n",
        "y = var()"
      ],
      "execution_count": 0,
      "outputs": []
    },
    {
      "cell_type": "code",
      "metadata": {
        "id": "ijgvls-aLN-t",
        "colab_type": "code",
        "outputId": "01fe3b78-f714-4c0f-9fb9-ac9df257483f",
        "colab": {
          "base_uri": "https://localhost:8080/",
          "height": 381
        }
      },
      "source": [
        "run(0, x, coastal(x))"
      ],
      "execution_count": 0,
      "outputs": [
        {
          "output_type": "execute_result",
          "data": {
            "text/plain": [
              "('CA',\n",
              " 'NY',\n",
              " 'MD',\n",
              " 'NH',\n",
              " 'NJ',\n",
              " 'MA',\n",
              " 'MI',\n",
              " 'VI',\n",
              " 'DW',\n",
              " 'FL',\n",
              " 'OR',\n",
              " 'LA',\n",
              " 'SC',\n",
              " 'TX',\n",
              " 'NC',\n",
              " 'AL',\n",
              " 'MN',\n",
              " 'CT',\n",
              " 'WA',\n",
              " 'GA',\n",
              " 'RI')"
            ]
          },
          "metadata": {
            "tags": []
          },
          "execution_count": 120
        }
      ]
    },
    {
      "cell_type": "code",
      "metadata": {
        "id": "LsvE0nnQLbQI",
        "colab_type": "code",
        "outputId": "49e9bc6f-2905-421c-8f59-86584a48c193",
        "colab": {
          "base_uri": "https://localhost:8080/",
          "height": 34
        }
      },
      "source": [
        "run(0, x, adjacent('ID', x))"
      ],
      "execution_count": 0,
      "outputs": [
        {
          "output_type": "execute_result",
          "data": {
            "text/plain": [
              "('MT', 'UT', 'NV', 'WY', 'WA', 'OR')"
            ]
          },
          "metadata": {
            "tags": []
          },
          "execution_count": 121
        }
      ]
    },
    {
      "cell_type": "code",
      "metadata": {
        "id": "iqYP8vKLLwNV",
        "colab_type": "code",
        "outputId": "115640c4-e4f8-4d6a-d9d3-f3686a858a28",
        "colab": {
          "base_uri": "https://localhost:8080/",
          "height": 34
        }
      },
      "source": [
        "run(0, x, adjacent('IL', x), coastal(x))"
      ],
      "execution_count": 0,
      "outputs": [
        {
          "output_type": "execute_result",
          "data": {
            "text/plain": [
              "()"
            ]
          },
          "metadata": {
            "tags": []
          },
          "execution_count": 122
        }
      ]
    },
    {
      "cell_type": "code",
      "metadata": {
        "id": "u2QlflcMJ-xA",
        "colab_type": "code",
        "outputId": "f05e85ef-e0df-4319-b0ad-c4c6c7ef3ac6",
        "colab": {
          "base_uri": "https://localhost:8080/",
          "height": 34
        }
      },
      "source": [
        "run(0, x, (adjacent, 'AL', x), coastal(x))"
      ],
      "execution_count": 0,
      "outputs": [
        {
          "output_type": "execute_result",
          "data": {
            "text/plain": [
              "('GA', 'FL')"
            ]
          },
          "metadata": {
            "tags": []
          },
          "execution_count": 123
        }
      ]
    },
    {
      "cell_type": "code",
      "metadata": {
        "id": "p1TeMSeTMyRd",
        "colab_type": "code",
        "colab": {}
      },
      "source": [
        "run(0, x, adjacent('TN', x), adjacent('FL', x))"
      ],
      "execution_count": 0,
      "outputs": []
    },
    {
      "cell_type": "code",
      "metadata": {
        "id": "fwEBg8NMM9bR",
        "colab_type": "code",
        "outputId": "f1d4d24c-9de3-4f7e-e2cf-0739c3c10683",
        "colab": {
          "base_uri": "https://localhost:8080/",
          "height": 277
        }
      },
      "source": [
        "run(5, x, coastal(y), adjacent(x, y), not coastal(x))"
      ],
      "execution_count": 0,
      "outputs": [
        {
          "output_type": "error",
          "ename": "TypeError",
          "evalue": "ignored",
          "traceback": [
            "\u001b[0;31m---------------------------------------------------------------------------\u001b[0m",
            "\u001b[0;31mTypeError\u001b[0m                                 Traceback (most recent call last)",
            "\u001b[0;32m<ipython-input-124-66e1cc017f0c>\u001b[0m in \u001b[0;36m<module>\u001b[0;34m()\u001b[0m\n\u001b[0;32m----> 1\u001b[0;31m \u001b[0mrun\u001b[0m\u001b[0;34m(\u001b[0m\u001b[0;36m5\u001b[0m\u001b[0;34m,\u001b[0m \u001b[0mx\u001b[0m\u001b[0;34m,\u001b[0m \u001b[0mcoastal\u001b[0m\u001b[0;34m(\u001b[0m\u001b[0my\u001b[0m\u001b[0;34m)\u001b[0m\u001b[0;34m,\u001b[0m \u001b[0madjacent\u001b[0m\u001b[0;34m(\u001b[0m\u001b[0mx\u001b[0m\u001b[0;34m,\u001b[0m \u001b[0my\u001b[0m\u001b[0;34m)\u001b[0m\u001b[0;34m,\u001b[0m \u001b[0;32mnot\u001b[0m \u001b[0mcoastal\u001b[0m\u001b[0;34m(\u001b[0m\u001b[0mx\u001b[0m\u001b[0;34m)\u001b[0m\u001b[0;34m)\u001b[0m\u001b[0;34m\u001b[0m\u001b[0;34m\u001b[0m\u001b[0m\n\u001b[0m",
            "\u001b[0;32m/usr/local/lib/python3.6/dist-packages/kanren/core.py\u001b[0m in \u001b[0;36mrun\u001b[0;34m(n, x, *goals)\u001b[0m\n\u001b[1;32m    238\u001b[0m     \u001b[0;34m(\u001b[0m\u001b[0;36m1\u001b[0m\u001b[0;34m,\u001b[0m\u001b[0;34m)\u001b[0m\u001b[0;34m\u001b[0m\u001b[0;34m\u001b[0m\u001b[0m\n\u001b[1;32m    239\u001b[0m     \"\"\"\n\u001b[0;32m--> 240\u001b[0;31m     \u001b[0mresults\u001b[0m \u001b[0;34m=\u001b[0m \u001b[0mmap\u001b[0m\u001b[0;34m(\u001b[0m\u001b[0mpartial\u001b[0m\u001b[0;34m(\u001b[0m\u001b[0mreify\u001b[0m\u001b[0;34m,\u001b[0m \u001b[0mx\u001b[0m\u001b[0;34m)\u001b[0m\u001b[0;34m,\u001b[0m \u001b[0mgoaleval\u001b[0m\u001b[0;34m(\u001b[0m\u001b[0mlall\u001b[0m\u001b[0;34m(\u001b[0m\u001b[0;34m*\u001b[0m\u001b[0mgoals\u001b[0m\u001b[0;34m)\u001b[0m\u001b[0;34m)\u001b[0m\u001b[0;34m(\u001b[0m\u001b[0;34m{\u001b[0m\u001b[0;34m}\u001b[0m\u001b[0;34m)\u001b[0m\u001b[0;34m)\u001b[0m\u001b[0;34m\u001b[0m\u001b[0;34m\u001b[0m\u001b[0m\n\u001b[0m\u001b[1;32m    241\u001b[0m     \u001b[0;32mreturn\u001b[0m \u001b[0mtake\u001b[0m\u001b[0;34m(\u001b[0m\u001b[0mn\u001b[0m\u001b[0;34m,\u001b[0m \u001b[0munique\u001b[0m\u001b[0;34m(\u001b[0m\u001b[0mresults\u001b[0m\u001b[0;34m,\u001b[0m \u001b[0mkey\u001b[0m\u001b[0;34m=\u001b[0m\u001b[0mmultihash\u001b[0m\u001b[0;34m)\u001b[0m\u001b[0;34m)\u001b[0m\u001b[0;34m\u001b[0m\u001b[0;34m\u001b[0m\u001b[0m\n\u001b[1;32m    242\u001b[0m \u001b[0;34m\u001b[0m\u001b[0m\n",
            "\u001b[0;32m/usr/local/lib/python3.6/dist-packages/kanren/core.py\u001b[0m in \u001b[0;36mlall\u001b[0;34m(*goals)\u001b[0m\n\u001b[1;32m     51\u001b[0m     \u001b[0;34m(\u001b[0m\u001b[0;36m2\u001b[0m\u001b[0;34m,\u001b[0m \u001b[0;36m3\u001b[0m\u001b[0;34m)\u001b[0m\u001b[0;34m\u001b[0m\u001b[0;34m\u001b[0m\u001b[0m\n\u001b[1;32m     52\u001b[0m     \"\"\"\n\u001b[0;32m---> 53\u001b[0;31m     \u001b[0;32mreturn\u001b[0m \u001b[0;34m(\u001b[0m\u001b[0mlallgreedy\u001b[0m\u001b[0;34m,\u001b[0m \u001b[0;34m)\u001b[0m \u001b[0;34m+\u001b[0m \u001b[0mtuple\u001b[0m\u001b[0;34m(\u001b[0m\u001b[0mearlyorder\u001b[0m\u001b[0;34m(\u001b[0m\u001b[0;34m*\u001b[0m\u001b[0mgoals\u001b[0m\u001b[0;34m)\u001b[0m\u001b[0;34m)\u001b[0m\u001b[0;34m\u001b[0m\u001b[0;34m\u001b[0m\u001b[0m\n\u001b[0m\u001b[1;32m     54\u001b[0m \u001b[0;34m\u001b[0m\u001b[0m\n\u001b[1;32m     55\u001b[0m \u001b[0;34m\u001b[0m\u001b[0m\n",
            "\u001b[0;32m/usr/local/lib/python3.6/dist-packages/kanren/core.py\u001b[0m in \u001b[0;36mearlyorder\u001b[0;34m(*goals)\u001b[0m\n\u001b[1;32m    153\u001b[0m     \u001b[0;32mif\u001b[0m \u001b[0;32mnot\u001b[0m \u001b[0mgoals\u001b[0m\u001b[0;34m:\u001b[0m\u001b[0;34m\u001b[0m\u001b[0;34m\u001b[0m\u001b[0m\n\u001b[1;32m    154\u001b[0m         \u001b[0;32mreturn\u001b[0m \u001b[0;34m(\u001b[0m\u001b[0;34m)\u001b[0m\u001b[0;34m\u001b[0m\u001b[0;34m\u001b[0m\u001b[0m\n\u001b[0;32m--> 155\u001b[0;31m     \u001b[0mgroups\u001b[0m \u001b[0;34m=\u001b[0m \u001b[0mgroupby\u001b[0m\u001b[0;34m(\u001b[0m\u001b[0mearlysafe\u001b[0m\u001b[0;34m,\u001b[0m \u001b[0mgoals\u001b[0m\u001b[0;34m)\u001b[0m\u001b[0;34m\u001b[0m\u001b[0;34m\u001b[0m\u001b[0m\n\u001b[0m\u001b[1;32m    156\u001b[0m     \u001b[0mgood\u001b[0m \u001b[0;34m=\u001b[0m \u001b[0mgroups\u001b[0m\u001b[0;34m.\u001b[0m\u001b[0mget\u001b[0m\u001b[0;34m(\u001b[0m\u001b[0;32mTrue\u001b[0m\u001b[0;34m,\u001b[0m \u001b[0;34m[\u001b[0m\u001b[0;34m]\u001b[0m\u001b[0;34m)\u001b[0m\u001b[0;34m\u001b[0m\u001b[0;34m\u001b[0m\u001b[0m\n\u001b[1;32m    157\u001b[0m     \u001b[0mbad\u001b[0m \u001b[0;34m=\u001b[0m \u001b[0mgroups\u001b[0m\u001b[0;34m.\u001b[0m\u001b[0mget\u001b[0m\u001b[0;34m(\u001b[0m\u001b[0;32mFalse\u001b[0m\u001b[0;34m,\u001b[0m \u001b[0;34m[\u001b[0m\u001b[0;34m]\u001b[0m\u001b[0;34m)\u001b[0m\u001b[0;34m\u001b[0m\u001b[0;34m\u001b[0m\u001b[0m\n",
            "\u001b[0;32m/usr/local/lib/python3.6/dist-packages/toolz/itertoolz.py\u001b[0m in \u001b[0;36mgroupby\u001b[0;34m(key, seq)\u001b[0m\n\u001b[1;32m     99\u001b[0m     \u001b[0md\u001b[0m \u001b[0;34m=\u001b[0m \u001b[0mcollections\u001b[0m\u001b[0;34m.\u001b[0m\u001b[0mdefaultdict\u001b[0m\u001b[0;34m(\u001b[0m\u001b[0;32mlambda\u001b[0m\u001b[0;34m:\u001b[0m \u001b[0;34m[\u001b[0m\u001b[0;34m]\u001b[0m\u001b[0;34m.\u001b[0m\u001b[0mappend\u001b[0m\u001b[0;34m)\u001b[0m\u001b[0;34m\u001b[0m\u001b[0;34m\u001b[0m\u001b[0m\n\u001b[1;32m    100\u001b[0m     \u001b[0;32mfor\u001b[0m \u001b[0mitem\u001b[0m \u001b[0;32min\u001b[0m \u001b[0mseq\u001b[0m\u001b[0;34m:\u001b[0m\u001b[0;34m\u001b[0m\u001b[0;34m\u001b[0m\u001b[0m\n\u001b[0;32m--> 101\u001b[0;31m         \u001b[0md\u001b[0m\u001b[0;34m[\u001b[0m\u001b[0mkey\u001b[0m\u001b[0;34m(\u001b[0m\u001b[0mitem\u001b[0m\u001b[0;34m)\u001b[0m\u001b[0;34m]\u001b[0m\u001b[0;34m(\u001b[0m\u001b[0mitem\u001b[0m\u001b[0;34m)\u001b[0m\u001b[0;34m\u001b[0m\u001b[0;34m\u001b[0m\u001b[0m\n\u001b[0m\u001b[1;32m    102\u001b[0m     \u001b[0mrv\u001b[0m \u001b[0;34m=\u001b[0m \u001b[0;34m{\u001b[0m\u001b[0;34m}\u001b[0m\u001b[0;34m\u001b[0m\u001b[0;34m\u001b[0m\u001b[0m\n\u001b[1;32m    103\u001b[0m     \u001b[0;32mfor\u001b[0m \u001b[0mk\u001b[0m\u001b[0;34m,\u001b[0m \u001b[0mv\u001b[0m \u001b[0;32min\u001b[0m \u001b[0miteritems\u001b[0m\u001b[0;34m(\u001b[0m\u001b[0md\u001b[0m\u001b[0;34m)\u001b[0m\u001b[0;34m:\u001b[0m\u001b[0;34m\u001b[0m\u001b[0;34m\u001b[0m\u001b[0m\n",
            "\u001b[0;32m/usr/local/lib/python3.6/dist-packages/kanren/core.py\u001b[0m in \u001b[0;36mearlysafe\u001b[0;34m(goal)\u001b[0m\n\u001b[1;32m    136\u001b[0m     \u001b[0;34m\"\"\" Call goal be evaluated without raising an EarlyGoalError \"\"\"\u001b[0m\u001b[0;34m\u001b[0m\u001b[0;34m\u001b[0m\u001b[0m\n\u001b[1;32m    137\u001b[0m     \u001b[0;32mtry\u001b[0m\u001b[0;34m:\u001b[0m\u001b[0;34m\u001b[0m\u001b[0;34m\u001b[0m\u001b[0m\n\u001b[0;32m--> 138\u001b[0;31m         \u001b[0mgoaleval\u001b[0m\u001b[0;34m(\u001b[0m\u001b[0mgoal\u001b[0m\u001b[0;34m)\u001b[0m\u001b[0;34m\u001b[0m\u001b[0;34m\u001b[0m\u001b[0m\n\u001b[0m\u001b[1;32m    139\u001b[0m         \u001b[0;32mreturn\u001b[0m \u001b[0;32mTrue\u001b[0m\u001b[0;34m\u001b[0m\u001b[0;34m\u001b[0m\u001b[0m\n\u001b[1;32m    140\u001b[0m     \u001b[0;32mexcept\u001b[0m \u001b[0mEarlyGoalError\u001b[0m\u001b[0;34m:\u001b[0m\u001b[0;34m\u001b[0m\u001b[0;34m\u001b[0m\u001b[0m\n",
            "\u001b[0;32m/usr/local/lib/python3.6/dist-packages/kanren/core.py\u001b[0m in \u001b[0;36mgoaleval\u001b[0;34m(goal)\u001b[0m\n\u001b[1;32m    302\u001b[0m         \u001b[0;32mexcept\u001b[0m \u001b[0mException\u001b[0m \u001b[0;32mas\u001b[0m \u001b[0me\u001b[0m\u001b[0;34m:\u001b[0m\u001b[0;34m\u001b[0m\u001b[0;34m\u001b[0m\u001b[0m\n\u001b[1;32m    303\u001b[0m             \u001b[0;32mraise\u001b[0m \u001b[0mEarlyGoalError\u001b[0m\u001b[0;34m(\u001b[0m\u001b[0me\u001b[0m\u001b[0;34m)\u001b[0m\u001b[0;34m\u001b[0m\u001b[0;34m\u001b[0m\u001b[0m\n\u001b[0;32m--> 304\u001b[0;31m     \u001b[0;32mraise\u001b[0m \u001b[0mTypeError\u001b[0m\u001b[0;34m(\u001b[0m\u001b[0;34m\"Expected either function or tuple\"\u001b[0m\u001b[0;34m)\u001b[0m\u001b[0;34m\u001b[0m\u001b[0;34m\u001b[0m\u001b[0m\n\u001b[0m",
            "\u001b[0;31mTypeError\u001b[0m: Expected either function or tuple"
          ]
        }
      ]
    },
    {
      "cell_type": "code",
      "metadata": {
        "id": "-St1-PAKTnQW",
        "colab_type": "code",
        "colab": {}
      },
      "source": [
        "inland = Relation()\n",
        "\n",
        "for L in adjlist:\n",
        "  state = L[0]\n",
        "  if run(0, x, coastal(state)) == ():\n",
        "    fact(inland, state)"
      ],
      "execution_count": 0,
      "outputs": []
    },
    {
      "cell_type": "code",
      "metadata": {
        "id": "Ut5j2THSVMM7",
        "colab_type": "code",
        "outputId": "5991787f-c7ea-4c7b-dccc-1ab468ba9204",
        "colab": {
          "base_uri": "https://localhost:8080/",
          "height": 573
        }
      },
      "source": [
        "run(0, x, inland(x))"
      ],
      "execution_count": 0,
      "outputs": [
        {
          "output_type": "execute_result",
          "data": {
            "text/plain": [
              "('IN',\n",
              " 'VT',\n",
              " 'DE',\n",
              " 'IL',\n",
              " 'WV',\n",
              " 'WI',\n",
              " 'MO',\n",
              " 'UT',\n",
              " 'SD',\n",
              " 'AZ',\n",
              " 'TN',\n",
              " 'NV',\n",
              " 'IA',\n",
              " 'VA',\n",
              " 'KS',\n",
              " 'WY',\n",
              " 'KY',\n",
              " 'ID',\n",
              " 'NE',\n",
              " 'ND',\n",
              " 'OH',\n",
              " 'DC',\n",
              " 'AK',\n",
              " 'MS',\n",
              " 'AR',\n",
              " 'CO',\n",
              " 'HI',\n",
              " 'ME',\n",
              " 'NM',\n",
              " 'OK',\n",
              " 'MT',\n",
              " 'PA')"
            ]
          },
          "metadata": {
            "tags": []
          },
          "execution_count": 126
        }
      ]
    },
    {
      "cell_type": "code",
      "metadata": {
        "id": "O49CMdsa73Pw",
        "colab_type": "code",
        "outputId": "5dd9a9fc-a959-48ad-db04-99fe3ecf74e0",
        "colab": {
          "base_uri": "https://localhost:8080/",
          "height": 381
        }
      },
      "source": [
        "run(0, x, coastal(y), adjacent(x, y), inland(x))"
      ],
      "execution_count": 0,
      "outputs": [
        {
          "output_type": "execute_result",
          "data": {
            "text/plain": [
              "('AZ',\n",
              " 'PA',\n",
              " 'VA',\n",
              " 'ME',\n",
              " 'DE',\n",
              " 'VT',\n",
              " 'WI',\n",
              " 'NV',\n",
              " 'AR',\n",
              " 'OK',\n",
              " 'MS',\n",
              " 'IA',\n",
              " 'ID',\n",
              " 'TN',\n",
              " 'WV',\n",
              " 'OH',\n",
              " 'ND',\n",
              " 'DC',\n",
              " 'IN',\n",
              " 'NM',\n",
              " 'SD')"
            ]
          },
          "metadata": {
            "tags": []
          },
          "execution_count": 127
        }
      ]
    }
  ]
}